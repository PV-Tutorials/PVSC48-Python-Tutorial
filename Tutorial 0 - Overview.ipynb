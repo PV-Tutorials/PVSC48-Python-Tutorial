{
 "cells": [
  {
   "cell_type": "markdown",
   "metadata": {
    "slideshow": {
     "slide_type": "slide"
    }
   },
   "source": [
    "![tutorial banner](images/tutorial_banner.PNG)\n",
    "\n",
    "\n",
    "# Welcome! \n",
    "\n",
    "Welcome to the  PV Software 101: from Sun position to AC Output! tutorial\n",
    "\n",
    "Modeling tools for all aspects of photovoltaic systems are rapidly growing, and there are solutions for many of the things you might want to simulate. Python is becoming one of the scientific languages of choice, and many open-source tools are available for PV modeling. This tutorial will focus on teaching attendees PV modeling in python through the use of PVlib. \n",
    "\n",
    "In this interactive tutorial we will go from getting acquainted with some common data used or measured in pv systems (i.e. weather), to modeling the AC energy output of a single-axis tracker system. This includes learning and simulating sun position, plane of array irradiances, temperature models, single-diode models and more. \n",
    "\n",
    "We will review common vocabulary around python and ``data aggregation`` by hour, week, month, and visualization. \n",
    "\n",
    "The tutorial will present hands-on examples in python, enabled via jupyter notebooks and a Jupyterhub (remote hosted server for jupyter notebooks and python language) so you, the attendee, don’t have to install anything, and can follow along while we go over the theory and code! In case it's not obvious, a computer <b> is </b> required.  \n",
    "\n",
    "The tutorial will wrap up with an overview of other available open-source tools for other aspects of modeling PV systems. \n"
   ]
  },
  {
   "cell_type": "markdown",
   "metadata": {},
   "source": [
    "## More on your teachers:\n",
    "\n",
    "The three of us have ample experience in data, coding, and PV field performance modeling, so we look forward to all of your questions.\n",
    "\n",
    "| | |\n",
    "| --- | --- |\n",
    "| ![Mark Mikofski](images/tutorial_0_mark.PNG) | <h2>Mark Mikofski</h2><br/>I am a principal solar engineer at DNV and product manager for SolarFarmer. I research, analyze, and predict PV system performance, degradation, and reliability. I have contributed to a few Python projects like [pvlib python](https://pvlib-python.readthedocs.io/en/latest/), [PVMismatch](https://sunpower.github.io/PVMismatch/), and [SciPy](https://scipy.org/) |\n",
    "| ![Silvana Ayala Pelaez](images/tutorial_0_silvana.PNG) | <h2>Silvana Ayala Pelaez</h2><br/>I am a research scientist at NREL, focusing mostly on bifacial PV system's performance, and circular economy. Python is my daily bread and butter for data analysis and building tools. Silvana has made substantial contributions to the NREL [bifacialvf pvmismatch](https://github.com/NREL/bifacialvf) and [bifacial radiance](https://bifacial-radiance.readthedocs.io/en/latest/) software packages. |\n",
    "| ![Kevin Anderson](images/tutorial_0_kevin.PNG) | <h2>Kevin Anderson</h2><br/>I am a research scientist at NREL doing cool stuff! I have contributed to work on slope aware backtracking, clipping loss errors in hourly yield estimates, and am a maintainer for [pvlib python](https://pvlib-python.readthedocs.io/en/latest/) and a frequent contributor to [RdTools](https://rdtools.readthedocs.io/en/latest/). |"
   ]
  },
  {
   "cell_type": "markdown",
   "metadata": {
    "slideshow": {
     "slide_type": "slide"
    }
   },
   "source": [
    "### Learning Objectives\n",
    "\n",
    "1.\tAccess weather data (TMY3), understand irradiance data, and visualize it monthly.\n",
    "2.\tCalculate sun position, plane of array irradiance, and aggregate irradiance data into average daily insolation by month and year.\n",
    "3.\tCalculate module temperature from ambient data. \n",
    "4.\tUse POA and module temperature to forecast a module's performance. \n",
    "\n",
    "## Overview\n",
    "The sketch below from [the Sandia PV Performance Modeling Collaborative (PVPMC)](https://pvpmc.sandia.gov/) outlines the topics we will cover in this tutorial:\n",
    "\n",
    "![Overview](images/tutorial_overview.PNG)"
   ]
  },
  {
   "cell_type": "markdown",
   "metadata": {
    "slideshow": {
     "slide_type": "subslide"
    }
   },
   "source": [
    "### Why learn this? \n",
    "\n",
    "PV-lib is a library of algorithms and routines that you might encounter the need to use if you're doing anything PV-modeling related.  It is managed by members of the PV research community, who make sure the formulas and code are not only sleek but accurate. \n",
    "\n",
    "* You want to know the sun position? No need to code from zero the SPA (Solar Position algorithm), it's in PVlib. \n",
    "\n",
    "* You want to reproduce the Sandia-King model to calculate module performance? It's there, also. \n",
    "\n",
    "* You can find the most well-known [models](https://pvpmc.sandia.gov/), as well as recently accepted values and approaches in published PV literature.\n",
    "\n",
    "* We hope adding this tool to your skillset will empower you to do better, faster research with an already solid foundation. Don't reinvent the wheel!"
   ]
  },
  {
   "cell_type": "markdown",
   "metadata": {
    "slideshow": {
     "slide_type": "slide"
    }
   },
   "source": [
    "## How to use this tutorial?\n",
    "\n",
    "This tutorial is a [Jupyter](https://jupyter.org) notebook. Jupyter is a browser based interactive tool that combines text, images, equations, and code that can be shared with others. Please see the setup section in the [README](https://github.com/PVSC-Python-Tutorials/PVSC48-Python-Tutorial/blob/main/README.md) to learn more about how to get started."
   ]
  },
  {
   "cell_type": "markdown",
   "metadata": {
    "slideshow": {
     "slide_type": "slide"
    }
   },
   "source": [
    "## Useful links\n",
    "\n",
    "1. References\n",
    "    * [PVlib Documentation](https://pvlib-python.readthedocs.io/en/stable/)\n",
    "    * [Github Code Repository](https://github.com/pvlib/pvlib-python)\n",
    "2. Ask for help:\n",
    "    * [Use the pvlib-python tag on StackOverflow](https://stackoverflow.com/questions/tagged/pvlib-python)\n",
    "    * [Google Group - Discussions and more!](https://groups.google.com/g/pvlib-python)\n",
    "    * [Open an Issue on the Github Repository](https://github.com/pyvlib/pvlib-python/issues)"
   ]
  },
  {
   "cell_type": "markdown",
   "metadata": {
    "slideshow": {
     "slide_type": "slide"
    }
   },
   "source": [
    "## Tutorial Structure\n",
    "\n",
    "This tutorial is made up of multiple Jupyter Notebooks. These notebooks mix\n",
    "code, text, visualization, and exercises.\n",
    "\n",
    "If you haven't used JupyterLab before, it's similar to the Jupyter Notebook. If\n",
    "you haven't used the Notebook, the quick intro is\n",
    "\n",
    "1. There are two modes: ``command`` and ``edit``\n",
    "\n",
    "1. From ``command`` mode, press `Enter` to edit a cell (like this markdown cell)\n",
    "\n",
    "1. From ``edit`` mode, press `Esc` to change to command mode\n",
    "1. Press `shift+enter` to execute a cell and move to the next cell.\n",
    "1. The toolbar has commands for executing, converting, and creating cells.\n",
    "\n",
    "The layout of the tutorial will be as follows:\n",
    "\n"
   ]
  },
  {
   "cell_type": "markdown",
   "metadata": {
    "slideshow": {
     "slide_type": "slide"
    }
   },
   "source": [
    "## Exercise: Print Hello, world!\n",
    "\n",
    "Each notebook will have exercises for you to solve. You'll be given a blank or\n",
    "partially completed cell, followed by a hidden cell with a solution. For\n",
    "example.\n",
    "\n",
    "Print the text \"Hello, world!\".\n"
   ]
  },
  {
   "cell_type": "code",
   "execution_count": 5,
   "metadata": {
    "slideshow": {
     "slide_type": "subslide"
    }
   },
   "outputs": [
    {
     "name": "stdout",
     "output_type": "stream",
     "text": [
      "Hello, world!\n"
     ]
    }
   ],
   "source": [
    "# Your code here\n",
    "print(\"Hello, world!\")"
   ]
  },
  {
   "cell_type": "code",
   "execution_count": 6,
   "metadata": {
    "slideshow": {
     "slide_type": "subslide"
    }
   },
   "outputs": [
    {
     "data": {
      "text/plain": [
       "5"
      ]
     },
     "execution_count": 6,
     "metadata": {},
     "output_type": "execute_result"
    }
   ],
   "source": [
    "a = 2\n",
    "b = 3\n",
    "a + b"
   ]
  },
  {
   "cell_type": "markdown",
   "metadata": {
    "slideshow": {
     "slide_type": "skip"
    }
   },
   "source": [
    "## Going Deeper\n",
    "\n",
    "We've designed the notebooks above to cover the basics of pvlib from beginning\n",
    "to end. To help you go deeper, we've also create a list of notebooks that\n",
    "demonstrate real-world applications of pvlib in a variety of use cases. These\n",
    "need not be explored in any particular sequence, instead they are meant to\n",
    "provide a sampling of what pvlib can be used for.\n",
    "\n",
    "### PVLIB and Weather/Climate Model Data\n",
    "\n",
    "1. [Sun path diagram](https://pvlib-python.readthedocs.io/en/stable/auto_examples/index.html):\n",
    "   Start with `global_mean_surface_temp.ipynb` then feel free to explore the\n",
    "   rest of the notebooks.\n"
   ]
  },
  {
   "cell_type": "markdown",
   "metadata": {},
   "source": [
    "<a rel=\"license\" href=\"http://creativecommons.org/licenses/by/4.0/\"><img alt=\"Creative Commons License\" style=\"border-width:0\" src=\"https://i.creativecommons.org/l/by/4.0/88x31.png\" /></a><br />This work is licensed under a <a rel=\"license\" href=\"http://creativecommons.org/licenses/by/4.0/\">Creative Commons Attribution 4.0 International License</a>."
   ]
  }
 ],
 "metadata": {
  "kernelspec": {
   "display_name": "Python 3",
   "language": "python",
   "name": "python3"
  },
  "language_info": {
   "codemirror_mode": {
    "name": "ipython",
    "version": 3
   },
   "file_extension": ".py",
   "mimetype": "text/x-python",
   "name": "python",
   "nbconvert_exporter": "python",
   "pygments_lexer": "ipython3",
   "version": "3.7.3"
  }
 },
 "nbformat": 4,
 "nbformat_minor": 4
}
